{
 "cells": [
  {
   "cell_type": "code",
   "id": "39fe33c2-aafc-46f2-91ee-655a59a4d22f",
   "metadata": {
    "ExecuteTime": {
     "end_time": "2024-06-24T09:02:34.772028Z",
     "start_time": "2024-06-24T09:02:34.764281Z"
    }
   },
   "source": [
    "import pandas as pd\n",
    "\n",
    "import config as cf\n",
    "import utils as ut"
   ],
   "outputs": [],
   "execution_count": 49
  },
  {
   "metadata": {
    "ExecuteTime": {
     "end_time": "2024-06-24T09:02:34.814855Z",
     "start_time": "2024-06-24T09:02:34.794583Z"
    }
   },
   "cell_type": "code",
   "source": [
    "# result directory\n",
    "resdir = \"/opt/storage/projects/o/pp7_llm/outputs/model_responses/gpt/gpt-4o\"\n",
    "md_file = cf.metadata_file\n",
    "md_df = pd.read_csv(md_file, sep=\"\\t\")"
   ],
   "id": "6b48abf9dc64ac07",
   "outputs": [],
   "execution_count": 50
  },
  {
   "metadata": {
    "ExecuteTime": {
     "end_time": "2024-06-24T09:02:34.969045Z",
     "start_time": "2024-06-24T09:02:34.878751Z"
    }
   },
   "cell_type": "code",
   "source": [
    "from copy import copy\n",
    "sys_jmt = ut.get_judgement_info_for_dir(resdir)\n",
    "sys_jmt_orig = copy(sys_jmt)\n",
    "sys_jmt = [\"other\" if kv[1] == 'no' else \"comic\" for kv in sorted(sys_jmt.items())]\n",
    "ref_jmt = [\"other\" if va == 0 else \"comic\" for va in md_df['comic'].tolist()]\n",
    "labels = [\"comic\", \"other\"]"
   ],
   "id": "73e57cf2d998582d",
   "outputs": [],
   "execution_count": 51
  },
  {
   "metadata": {
    "ExecuteTime": {
     "end_time": "2024-06-24T09:02:35.044094Z",
     "start_time": "2024-06-24T09:02:35.011642Z"
    }
   },
   "cell_type": "code",
   "source": "sorted(sys_jmt_orig.items())",
   "id": "382bd8fd32331e88",
   "outputs": [
    {
     "data": {
      "text/plain": [
       "[('humor_0001_gpt-4o', 'sí'),\n",
       " ('humor_0002_gpt-4o', 'sí'),\n",
       " ('humor_0003_gpt-4o', 'no'),\n",
       " ('humor_0004_gpt-4o', 'sí'),\n",
       " ('humor_0005_gpt-4o', 'sí'),\n",
       " ('humor_0006_gpt-4o', 'sí'),\n",
       " ('humor_0007_gpt-4o', 'sí'),\n",
       " ('humor_0008_gpt-4o', 'no'),\n",
       " ('humor_0009_gpt-4o', 'sí'),\n",
       " ('humor_0010_gpt-4o', 'no'),\n",
       " ('humor_0011_gpt-4o', 'no'),\n",
       " ('humor_0012_gpt-4o', 'no'),\n",
       " ('humor_0013_gpt-4o', 'sí'),\n",
       " ('humor_0014_gpt-4o', 'sí'),\n",
       " ('humor_0015_gpt-4o', 'sí'),\n",
       " ('humor_0016_gpt-4o', 'sí'),\n",
       " ('humor_0017_gpt-4o', 'sí'),\n",
       " ('humor_0018_gpt-4o', 'no'),\n",
       " ('humor_0019_gpt-4o', 'sí'),\n",
       " ('humor_0020_gpt-4o', 'sí'),\n",
       " ('humor_0021_gpt-4o', 'sí'),\n",
       " ('humor_0022_gpt-4o', 'sí'),\n",
       " ('humor_0023_gpt-4o', 'sí'),\n",
       " ('humor_0024_gpt-4o', 'sí'),\n",
       " ('humor_0025_gpt-4o', 'sí'),\n",
       " ('humor_0026_gpt-4o', 'no'),\n",
       " ('humor_0027_gpt-4o', 'sí'),\n",
       " ('humor_0028_gpt-4o', 'no'),\n",
       " ('humor_0029_gpt-4o', 'no'),\n",
       " ('humor_0030_gpt-4o', 'no'),\n",
       " ('humor_0031_gpt-4o', 'no'),\n",
       " ('humor_0032_gpt-4o', 'no'),\n",
       " ('humor_0033_gpt-4o', 'no'),\n",
       " ('humor_0034_gpt-4o', 'no'),\n",
       " ('humor_0035_gpt-4o', 'no'),\n",
       " ('humor_0036_gpt-4o', 'no'),\n",
       " ('humor_0037_gpt-4o', 'no'),\n",
       " ('humor_0038_gpt-4o', 'no'),\n",
       " ('humor_0039_gpt-4o', 'no'),\n",
       " ('humor_0040_gpt-4o', 'no'),\n",
       " ('humor_0041_gpt-4o', 'no'),\n",
       " ('humor_0042_gpt-4o', 'no'),\n",
       " ('humor_0043_gpt-4o', 'no'),\n",
       " ('humor_0044_gpt-4o', 'no'),\n",
       " ('humor_0045_gpt-4o', 'no'),\n",
       " ('humor_0046_gpt-4o', 'no'),\n",
       " ('humor_0047_gpt-4o', 'no'),\n",
       " ('humor_0048_gpt-4o', 'no'),\n",
       " ('humor_0049_gpt-4o', 'no'),\n",
       " ('humor_0050_gpt-4o', 'no'),\n",
       " ('humor_0051_gpt-4o', 'sí'),\n",
       " ('humor_0052_gpt-4o', 'sí'),\n",
       " ('humor_0053_gpt-4o', 'sí'),\n",
       " ('humor_0054_gpt-4o', 'sí'),\n",
       " ('humor_0055_gpt-4o', 'sí'),\n",
       " ('humor_0056_gpt-4o', 'sí'),\n",
       " ('humor_0057_gpt-4o', 'sí'),\n",
       " ('humor_0058_gpt-4o', 'sí'),\n",
       " ('humor_0059_gpt-4o', 'sí'),\n",
       " ('humor_0060_gpt-4o', 'no'),\n",
       " ('humor_0061_gpt-4o', 'sí'),\n",
       " ('humor_0062_gpt-4o', 'sí'),\n",
       " ('humor_0063_gpt-4o', 'sí'),\n",
       " ('humor_0064_gpt-4o', 'no'),\n",
       " ('humor_0065_gpt-4o', 'sí'),\n",
       " ('humor_0066_gpt-4o', 'sí'),\n",
       " ('humor_0067_gpt-4o', 'no'),\n",
       " ('humor_0068_gpt-4o', 'sí'),\n",
       " ('humor_0069_gpt-4o', 'sí'),\n",
       " ('humor_0070_gpt-4o', 'no'),\n",
       " ('humor_0071_gpt-4o', 'no'),\n",
       " ('humor_0072_gpt-4o', 'sí'),\n",
       " ('humor_0073_gpt-4o', 'sí'),\n",
       " ('humor_0074_gpt-4o', 'no'),\n",
       " ('humor_0075_gpt-4o', 'sí'),\n",
       " ('humor_0076_gpt-4o', 'sí'),\n",
       " ('humor_0077_gpt-4o', 'no'),\n",
       " ('humor_0078_gpt-4o', 'no'),\n",
       " ('humor_0079_gpt-4o', 'no'),\n",
       " ('humor_0080_gpt-4o', 'no'),\n",
       " ('humor_0081_gpt-4o', 'no'),\n",
       " ('humor_0082_gpt-4o', 'no'),\n",
       " ('humor_0083_gpt-4o', 'no'),\n",
       " ('humor_0084_gpt-4o', 'no'),\n",
       " ('humor_0085_gpt-4o', 'no'),\n",
       " ('humor_0086_gpt-4o', 'no'),\n",
       " ('humor_0087_gpt-4o', 'no'),\n",
       " ('humor_0088_gpt-4o', 'no'),\n",
       " ('humor_0089_gpt-4o', 'no'),\n",
       " ('humor_0090_gpt-4o', 'no'),\n",
       " ('humor_0091_gpt-4o', 'no'),\n",
       " ('humor_0092_gpt-4o', 'no'),\n",
       " ('humor_0093_gpt-4o', 'no'),\n",
       " ('humor_0094_gpt-4o', 'no'),\n",
       " ('humor_0095_gpt-4o', 'no'),\n",
       " ('humor_0096_gpt-4o', 'no'),\n",
       " ('humor_0097_gpt-4o', 'no'),\n",
       " ('humor_0098_gpt-4o', 'no'),\n",
       " ('humor_0099_gpt-4o', 'no'),\n",
       " ('humor_0100_gpt-4o', 'no')]"
      ]
     },
     "execution_count": 52,
     "metadata": {},
     "output_type": "execute_result"
    }
   ],
   "execution_count": 52
  },
  {
   "metadata": {
    "ExecuteTime": {
     "end_time": "2024-06-24T09:02:35.199749Z",
     "start_time": "2024-06-24T09:02:35.181922Z"
    }
   },
   "cell_type": "code",
   "source": "sys_jmt",
   "id": "9c5acb65c120c40",
   "outputs": [
    {
     "data": {
      "text/plain": [
       "['comic',\n",
       " 'comic',\n",
       " 'other',\n",
       " 'comic',\n",
       " 'comic',\n",
       " 'comic',\n",
       " 'comic',\n",
       " 'other',\n",
       " 'comic',\n",
       " 'other',\n",
       " 'other',\n",
       " 'other',\n",
       " 'comic',\n",
       " 'comic',\n",
       " 'comic',\n",
       " 'comic',\n",
       " 'comic',\n",
       " 'other',\n",
       " 'comic',\n",
       " 'comic',\n",
       " 'comic',\n",
       " 'comic',\n",
       " 'comic',\n",
       " 'comic',\n",
       " 'comic',\n",
       " 'other',\n",
       " 'comic',\n",
       " 'other',\n",
       " 'other',\n",
       " 'other',\n",
       " 'other',\n",
       " 'other',\n",
       " 'other',\n",
       " 'other',\n",
       " 'other',\n",
       " 'other',\n",
       " 'other',\n",
       " 'other',\n",
       " 'other',\n",
       " 'other',\n",
       " 'other',\n",
       " 'other',\n",
       " 'other',\n",
       " 'other',\n",
       " 'other',\n",
       " 'other',\n",
       " 'other',\n",
       " 'other',\n",
       " 'other',\n",
       " 'other',\n",
       " 'comic',\n",
       " 'comic',\n",
       " 'comic',\n",
       " 'comic',\n",
       " 'comic',\n",
       " 'comic',\n",
       " 'comic',\n",
       " 'comic',\n",
       " 'comic',\n",
       " 'other',\n",
       " 'comic',\n",
       " 'comic',\n",
       " 'comic',\n",
       " 'other',\n",
       " 'comic',\n",
       " 'comic',\n",
       " 'other',\n",
       " 'comic',\n",
       " 'comic',\n",
       " 'other',\n",
       " 'other',\n",
       " 'comic',\n",
       " 'comic',\n",
       " 'other',\n",
       " 'comic',\n",
       " 'comic',\n",
       " 'other',\n",
       " 'other',\n",
       " 'other',\n",
       " 'other',\n",
       " 'other',\n",
       " 'other',\n",
       " 'other',\n",
       " 'other',\n",
       " 'other',\n",
       " 'other',\n",
       " 'other',\n",
       " 'other',\n",
       " 'other',\n",
       " 'other',\n",
       " 'other',\n",
       " 'other',\n",
       " 'other',\n",
       " 'other',\n",
       " 'other',\n",
       " 'other',\n",
       " 'other',\n",
       " 'other',\n",
       " 'other',\n",
       " 'other']"
      ]
     },
     "execution_count": 53,
     "metadata": {},
     "output_type": "execute_result"
    }
   ],
   "execution_count": 53
  },
  {
   "metadata": {
    "ExecuteTime": {
     "end_time": "2024-06-24T09:02:35.316775Z",
     "start_time": "2024-06-24T09:02:35.301028Z"
    }
   },
   "cell_type": "code",
   "source": "ref_jmt",
   "id": "7be10cfcf825141f",
   "outputs": [
    {
     "data": {
      "text/plain": [
       "['comic',\n",
       " 'comic',\n",
       " 'comic',\n",
       " 'comic',\n",
       " 'comic',\n",
       " 'comic',\n",
       " 'comic',\n",
       " 'other',\n",
       " 'comic',\n",
       " 'comic',\n",
       " 'comic',\n",
       " 'other',\n",
       " 'comic',\n",
       " 'comic',\n",
       " 'comic',\n",
       " 'comic',\n",
       " 'comic',\n",
       " 'comic',\n",
       " 'comic',\n",
       " 'comic',\n",
       " 'comic',\n",
       " 'comic',\n",
       " 'comic',\n",
       " 'comic',\n",
       " 'comic',\n",
       " 'other',\n",
       " 'comic',\n",
       " 'other',\n",
       " 'other',\n",
       " 'other',\n",
       " 'other',\n",
       " 'other',\n",
       " 'other',\n",
       " 'other',\n",
       " 'other',\n",
       " 'other',\n",
       " 'other',\n",
       " 'other',\n",
       " 'other',\n",
       " 'other',\n",
       " 'other',\n",
       " 'other',\n",
       " 'other',\n",
       " 'other',\n",
       " 'other',\n",
       " 'other',\n",
       " 'other',\n",
       " 'other',\n",
       " 'other',\n",
       " 'other',\n",
       " 'comic',\n",
       " 'comic',\n",
       " 'comic',\n",
       " 'comic',\n",
       " 'comic',\n",
       " 'comic',\n",
       " 'comic',\n",
       " 'comic',\n",
       " 'comic',\n",
       " 'comic',\n",
       " 'comic',\n",
       " 'comic',\n",
       " 'comic',\n",
       " 'comic',\n",
       " 'comic',\n",
       " 'comic',\n",
       " 'comic',\n",
       " 'comic',\n",
       " 'comic',\n",
       " 'comic',\n",
       " 'comic',\n",
       " 'comic',\n",
       " 'comic',\n",
       " 'comic',\n",
       " 'comic',\n",
       " 'comic',\n",
       " 'other',\n",
       " 'other',\n",
       " 'other',\n",
       " 'other',\n",
       " 'other',\n",
       " 'other',\n",
       " 'other',\n",
       " 'other',\n",
       " 'other',\n",
       " 'other',\n",
       " 'other',\n",
       " 'other',\n",
       " 'other',\n",
       " 'other',\n",
       " 'other',\n",
       " 'other',\n",
       " 'other',\n",
       " 'other',\n",
       " 'other',\n",
       " 'other',\n",
       " 'other',\n",
       " 'other',\n",
       " 'other',\n",
       " 'other']"
      ]
     },
     "execution_count": 54,
     "metadata": {},
     "output_type": "execute_result"
    }
   ],
   "execution_count": 54
  },
  {
   "metadata": {
    "ExecuteTime": {
     "end_time": "2024-06-24T09:02:36.001284Z",
     "start_time": "2024-06-24T09:02:35.403513Z"
    }
   },
   "cell_type": "code",
   "source": [
    "import numpy as np\n",
    "from sklearn.metrics import accuracy_score, f1_score\n",
    "from sklearn.metrics import ConfusionMatrixDisplay, confusion_matrix\n",
    "import matplotlib.pyplot as plt\n",
    "\n",
    "clrmap_dict = {\"4o\": \"Greens\", \"35\": \"Blues\"}\n",
    "def plot_confusion_matrix(y_preds, y_true, labels, color_key):\n",
    "    cm = confusion_matrix(y_true, y_preds, normalize=\"true\")\n",
    "    fig, ax = plt.subplots(figsize=(6, 6))\n",
    "    #labels_for_fig = [l[0:4]+'.' for l in labels]\n",
    "    labels_for_fig = labels\n",
    "    disp = ConfusionMatrixDisplay(confusion_matrix=cm,\n",
    "                                  display_labels=labels_for_fig)\n",
    "    #disp.plot(cmap=\"Purples\", values_format=\".2f\", ax=ax, colorbar=False)\n",
    "    disp.plot(cmap=clrmap_dict[color_key], values_format=\".2f\", ax=ax, colorbar=False)\n",
    "    plt.title(\"Normalized confusion matrix\")\n",
    "    plt.show()\n",
    "\n",
    "plot_confusion_matrix(sys_jmt, ref_jmt, labels, \"4o\")"
   ],
   "id": "7542b171be221454",
   "outputs": [
    {
     "data": {
      "text/plain": [
       "<Figure size 600x600 with 1 Axes>"
      ],
      "image/png": "[encoded data removed]"
     },
     "metadata": {},
     "output_type": "display_data"
    }
   ],
   "execution_count": 55
  },
  {
   "metadata": {
    "ExecuteTime": {
     "end_time": "2024-06-24T09:06:19.173348Z",
     "start_time": "2024-06-24T09:06:19.156761Z"
    }
   },
   "cell_type": "code",
   "source": "plain_cm = confusion_matrix(ref_jmt, sys_jmt, normalize=\"true\")",
   "id": "f54bf3f8b677132d",
   "outputs": [],
   "execution_count": 63
  },
  {
   "metadata": {
    "ExecuteTime": {
     "end_time": "2024-06-24T09:06:25.695934Z",
     "start_time": "2024-06-24T09:06:25.682811Z"
    }
   },
   "cell_type": "code",
   "source": [
    "# note the 0, 1 when this renders on jupyter are indices, not 0 negative 1 positive\n",
    "plain_cm"
   ],
   "id": "5e67a10cb0f0436c",
   "outputs": [
    {
     "data": {
      "text/plain": [
       "array([[0.8, 0.2],\n",
       "       [0. , 1. ]])"
      ]
     },
     "execution_count": 64,
     "metadata": {},
     "output_type": "execute_result"
    }
   ],
   "execution_count": 64
  },
  {
   "metadata": {
    "ExecuteTime": {
     "end_time": "2024-06-24T09:02:36.067978Z",
     "start_time": "2024-06-24T09:02:36.039372Z"
    }
   },
   "cell_type": "code",
   "source": "sys_jmt[0:10]",
   "id": "6013ee6ef2b048d4",
   "outputs": [
    {
     "data": {
      "text/plain": [
       "['comic',\n",
       " 'comic',\n",
       " 'other',\n",
       " 'comic',\n",
       " 'comic',\n",
       " 'comic',\n",
       " 'comic',\n",
       " 'other',\n",
       " 'comic',\n",
       " 'other']"
      ]
     },
     "execution_count": 57,
     "metadata": {},
     "output_type": "execute_result"
    }
   ],
   "execution_count": 57
  }
 ],
 "metadata": {
  "kernelspec": {
   "display_name": "Python 3 (ipykernel)",
   "language": "python",
   "name": "python3"
  },
  "language_info": {
   "codemirror_mode": {
    "name": "ipython",
    "version": 3
   },
   "file_extension": ".py",
   "mimetype": "text/x-python",
   "name": "python",
   "nbconvert_exporter": "python",
   "pygments_lexer": "ipython3",
   "version": "3.11.7"
  }
 },
 "nbformat": 4,
 "nbformat_minor": 5
}
