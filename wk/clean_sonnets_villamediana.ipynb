{
 "cells": [
  {
   "cell_type": "code",
   "execution_count": 1,
   "id": "fc0ae855-d3b2-423b-b746-198795be98cf",
   "metadata": {},
   "outputs": [],
   "source": [
    "infi = \"sonetos_satiricos_villamediana\""
   ]
  },
  {
   "cell_type": "code",
   "execution_count": 8,
   "id": "c95c4d87-4ec3-4fd8-bd3e-ce33f1284d6e",
   "metadata": {},
   "outputs": [],
   "source": [
    "import re\n",
    "\n",
    "with open(infi) as f:\n",
    "    out_lines = []\n",
    "    for line in f:\n",
    "        if re.match(r\"[0-9.]+\", line):\n",
    "            continue\n",
    "        elif re.match(r\"\\s*Madrid\\s*[0-9.,()]\", line):\n",
    "            continue\n",
    "        out_lines.append(line)\n",
    "    txt = \"\".join(out_lines)"
   ]
  },
  {
   "cell_type": "code",
   "execution_count": 9,
   "id": "210637fe-a968-4b3f-b9b3-7eaf74f8a8ca",
   "metadata": {
    "scrolled": true
   },
   "outputs": [
    {
     "data": {
      "text/plain": [
       "'A Josefa Vaca, reprendiéndola su marido\\n\\n«Oiga Josefa, y mire que ya pisa\\nesta corte del rey, cordura tenga;\\nmire que el vulgo en murmurar se venga\\ny el tiempo siempre sin hablar avisa.\\n\\n   Por nuestra santa y celestial divisa\\nque de hablar con los príncipes se abstenga,\\ny aunque uno y otro duque a verla venga,\\nsu marido no más, su honor, su misa.»\\n\\n   Dijo Morales y rezó su poco,\\nmas la Josefa le responde airada:\\n«¡Oh, lleve el diablo tanto guarda el coco!\\n\\n   ¡Malhaya yo si fuese más honrada!»\\nPero como ella es simple y él es loco,\\nmiró al soslayo, fuese y no hubo nada.\\n\\n\\n\\nJosefa Vaca, comedianta\\n\\nOye, Josefa, a quien tu bien desea,\\nque es Villa-nueva aquesta vida humana,\\ny a Villa-flor se pasará mañana,\\nque es flor que al sol que mira lisonjea.\\n\\n   Más hace Peña-fiel al que desea,\\nsi en ferias te da Feria ya Pastrana\\nque anda el diablo suelto en Cantillana\\ny en Barca-rota tu caudal se emplea.\\n\\n   Que es Río-seco aquesta Corte loca;\\nque lleva agua salobre ya Saldaña;\\nque pica el gusto y el amor provoca;\\n\\n   que a tu marido el tiempo desengaña,\\nque mucha presunción con edad poca\\nel valor miente y el amor engaña.\\n\\n   Que hallarás si plantares,\\nfáciles Alcañices, no Olivares.\\n\\n\\n\\nA una academia que se hizo en casa de Antonio de Vega, confeso\\n\\nA mi noticia el gran concilio llega\\ny que el Jordán trasladan a Italía;\\ncuidado, Apolo, que la gente impía\\nteme a las llamas y a la luz se ciega.\\n\\n   Académico Antonio sea de Vega\\nen vuestra judaizante compañía,\\ny no ya vega del Ave María,\\nsino de torpe tribu que la niega.\\n\\n   De tal Mecenas, pues, de congregada\\njudaica plebe, ya Toledo espera\\nnuevas llamas y Cristo otra lanzada.\\n\\n   Mucha luz me promete y poca cera\\ngente que por confesa confesada\\npor luminarias nos dará su hoguera.\\n\\n\\n\\nA vanas esperanzas de la Corte\\n\\nCánsame Medinilla a la jineta\\ny púdreme el de Hijar a la brida\\nacábame Don Zarate la vida\\nporque sigue de Tello la vil seta.\\n\\n   Franqueza me ha rogado que le meta\\nen un soneto, puesto que es sabido\\nsu necia gravedad, toda nacida\\nde no acordarse de que fue soleta.\\n\\n   Don Rodrigo de Tapia el tontivano\\nno acaba de saber, vaga ignorancia,\\ncuál sea en su coche la derecha mano.\\n\\n   El es un caballero de importancia\\ny tiene cierta gracia que en verano\\ndespide del sobaco gran fragancia.\\n\\n\\n\\nA doña Justa Sánchez y don Diego de Tovar\\n\\nEn nombre Justa, en obras pecadora,\\nsanta del calendario de Cupido,\\ncuyos milagros tiene su marido\\ncanonizado de paciencia ahora.\\n\\n   Culpas absuelve, penitencias llora\\ndel que es primo y al fin quizá marido,\\nlibre manteo de vuelta guarnecido\\nque uno le paga y otro le desflora.\\n\\n   ¿Qué dirá la corona del viudo,\\nviendo que ha renovado Don Jumento\\nel cuerno en este sábado no santo?\\n\\n   Dirá que de mal termino es cornudo\\ny que olvida el honor del regimiento,\\ny nosotros diremos otro tanto.\\n\\n\\n\\nA Jorge de Tovar\\n\\nEste es el sólo de este tiempo dino\\ntribuno vil de la judaica plebe,\\nque no conoce a Dios, a quien se atreve,\\nsecretario ladrón, fabril rabino.\\n\\n   Contumaz, pues, sayón, Vero-Longino,\\nen nuestra redención su lanza pruebe\\nel que ha mil años que juró de leve\\nporque ha mil veces que su mes le vino.\\n\\n   ¡Oh judío con regla desreglado!\\n¿Qué mucho que te nieguen lo que pides,\\nsi tu pides la cruz que estás negando?\\n\\n   Labra casas y logra de lo hurtado\\ny pues tu fe con nuestra vida mides,\\nsi es que está bautizado ¿dinos cuándo?\\n\\n\\n\\nA la casa de una cortesana donde entró a vivir un pretendiente\\n\\nAquí vivió la Chenca, aquella joya\\npor las hechuras cara; este aposento\\nfue túmulo del sexto mandamiento\\ny galera en que Amor fue buena boya.\\n\\n   ¡Viva Dios que esta sala que le apoya\\ncentellas de lujuria arroja al viento!\\nEsta trampa inventó su atrevimiento\\npara jugar al hombre con tramoya.\\n\\n   Desde aquella ventana, la insolencia\\nde sus cabellos afrentó al oriente,\\ny en ésta fue su vista una estocada.\\n\\n   Mas, ¡oh cruel, a entrambos penitencia!\\nhoy la casa es albergue a un pretendiente,\\ny la célebre Chenca está casada.\\n\\n\\n\\nAl aguacil de corte Pedro Vergel\\n\\nLa llave del toril, por ser más diestro,\\ndieron al buen Vergel, y por cercano\\ndeudo de los que tiene so su mano,\\npues le tiene esta villa por cabestro.\\n\\n   Aunque en esto de cuernos es maestro\\ny de la facultad es el decano,\\nun torillo, enemigo de su hermano,\\nal suelo le arrojó con fin siniestro.\\n\\n   Pero como jamás hombres han visto\\nun cuerno de otro cuerno horadado,\\ny Vergel con los toros es bienquisto,\\n\\n   aunque esta vez le vieron apretado,\\nsano y salvo salió, gracias a Cristo:\\nque Vergel contra cuernos es hadado.\\n'"
      ]
     },
     "execution_count": 9,
     "metadata": {},
     "output_type": "execute_result"
    }
   ],
   "source": [
    "txt"
   ]
  },
  {
   "cell_type": "code",
   "execution_count": 10,
   "id": "3fca7184-daca-42fc-b7bc-e025c39becf9",
   "metadata": {},
   "outputs": [],
   "source": [
    "poems = re.split(r\"\\n{3,}\", txt)"
   ]
  },
  {
   "cell_type": "code",
   "execution_count": 11,
   "id": "15c7048b-aa08-431e-86bb-0c4692576d75",
   "metadata": {},
   "outputs": [
    {
     "data": {
      "text/plain": [
       "'A Josefa Vaca, reprendiéndola su marido\\n\\n«Oiga Josefa, y mire que ya pisa\\nesta corte del rey, cordura tenga;\\nmire que el vulgo en murmurar se venga\\ny el tiempo siempre sin hablar avisa.\\n\\n   Por nuestra santa y celestial divisa\\nque de hablar con los príncipes se abstenga,\\ny aunque uno y otro duque a verla venga,\\nsu marido no más, su honor, su misa.»\\n\\n   Dijo Morales y rezó su poco,\\nmas la Josefa le responde airada:\\n«¡Oh, lleve el diablo tanto guarda el coco!\\n\\n   ¡Malhaya yo si fuese más honrada!»\\nPero como ella es simple y él es loco,\\nmiró al soslayo, fuese y no hubo nada.'"
      ]
     },
     "execution_count": 11,
     "metadata": {},
     "output_type": "execute_result"
    }
   ],
   "source": [
    "poems[0]"
   ]
  },
  {
   "cell_type": "code",
   "execution_count": 12,
   "id": "a3123295-566e-4f94-bce9-35d9dee887f1",
   "metadata": {},
   "outputs": [],
   "source": [
    "titles = []\n",
    "texts = []\n",
    "for poem in poems:\n",
    "    norm_text = re.sub(r\"\\n\\s{2,}\", \"\\n\\n\", poem)\n",
    "    # try to remove extra \\n at beginning before split\n",
    "    plines = norm_text.lstrip().split(\"\\n\")\n",
    "    title = plines[0].strip()\n",
    "    text = \"\\n\".join(plines[1:])\n",
    "    titles.append(title)\n",
    "    texts.append(text.strip())"
   ]
  },
  {
   "cell_type": "code",
   "execution_count": 13,
   "id": "445ba4c5-2f51-4f05-a427-030bc819970b",
   "metadata": {
    "scrolled": true
   },
   "outputs": [
    {
     "name": "stdout",
     "output_type": "stream",
     "text": [
      "«Oiga Josefa, y mire que ya pisa\n",
      "esta corte del rey, cordura tenga;\n",
      "mire que el vulgo en murmurar se venga\n",
      "y el tiempo siempre sin hablar avisa.\n",
      "\n",
      "Por nuestra santa y celestial divisa\n",
      "que de hablar con los príncipes se abstenga,\n",
      "y aunque uno y otro duque a verla venga,\n",
      "su marido no más, su honor, su misa.»\n",
      "\n",
      "Dijo Morales y rezó su poco,\n",
      "mas la Josefa le responde airada:\n",
      "«¡Oh, lleve el diablo tanto guarda el coco!\n",
      "\n",
      "¡Malhaya yo si fuese más honrada!»\n",
      "Pero como ella es simple y él es loco,\n",
      "miró al soslayo, fuese y no hubo nada.\n"
     ]
    }
   ],
   "source": [
    "print(texts[0])"
   ]
  },
  {
   "cell_type": "code",
   "execution_count": 14,
   "id": "09e3b0cf-7573-41c4-9ae3-91c19e1727cd",
   "metadata": {},
   "outputs": [],
   "source": [
    "assert len(titles) == len(texts)"
   ]
  },
  {
   "cell_type": "code",
   "execution_count": 15,
   "id": "549dc5a0-2b73-489b-b65f-4504fe0a712c",
   "metadata": {},
   "outputs": [],
   "source": [
    "import os\n",
    "\n",
    "metadata_infos = []\n",
    "start_id = 69\n",
    "output_dir = \"out_villamediana\"\n",
    "\n",
    "if not os.path.exists(output_dir):\n",
    "    os.mkdir(output_dir)\n",
    "for idx, infos in enumerate(zip(titles, texts)):\n",
    "    poem_id = start_id+idx\n",
    "    with open(os.path.join(output_dir, f\"{str.zfill(str(poem_id), 4)}.txt\"), mode=\"w\", encoding=\"utf8\") as oufi:\n",
    "        oufi.write(infos[0] + \"\\n\\n\" + infos[1])\n",
    "    metadata_infos.append((poem_id, infos[0], \"Juan de Tassis y Peralta, Conde de Villamediana\", 16, 1, 1, \"part of a section labeled 'Sonetos Satíricos'\", \"\"\"https://www.cervantesvirtual.com/obra-visor/sonetos--4/html/000fed4c-82b2-11df-acc7-002185ce6064_6.html#I_152_\"\"\"))"
   ]
  },
  {
   "cell_type": "code",
   "execution_count": 16,
   "id": "dd5521cd-7e0d-4f2b-bc78-dfedbd309dc5",
   "metadata": {},
   "outputs": [
    {
     "name": "stdout",
     "output_type": "stream",
     "text": [
      "69\tA Josefa Vaca, reprendiéndola su marido\tJuan de Tassis y Peralta, Conde de Villamediana\t16\t1\t1\tpart of a section labeled 'Sonetos Satíricos'\thttps://www.cervantesvirtual.com/obra-visor/sonetos--4/html/000fed4c-82b2-11df-acc7-002185ce6064_6.html#I_152_\n",
      "70\tJosefa Vaca, comedianta\tJuan de Tassis y Peralta, Conde de Villamediana\t16\t1\t1\tpart of a section labeled 'Sonetos Satíricos'\thttps://www.cervantesvirtual.com/obra-visor/sonetos--4/html/000fed4c-82b2-11df-acc7-002185ce6064_6.html#I_152_\n",
      "71\tA una academia que se hizo en casa de Antonio de Vega, confeso\tJuan de Tassis y Peralta, Conde de Villamediana\t16\t1\t1\tpart of a section labeled 'Sonetos Satíricos'\thttps://www.cervantesvirtual.com/obra-visor/sonetos--4/html/000fed4c-82b2-11df-acc7-002185ce6064_6.html#I_152_\n",
      "72\tA vanas esperanzas de la Corte\tJuan de Tassis y Peralta, Conde de Villamediana\t16\t1\t1\tpart of a section labeled 'Sonetos Satíricos'\thttps://www.cervantesvirtual.com/obra-visor/sonetos--4/html/000fed4c-82b2-11df-acc7-002185ce6064_6.html#I_152_\n",
      "73\tA doña Justa Sánchez y don Diego de Tovar\tJuan de Tassis y Peralta, Conde de Villamediana\t16\t1\t1\tpart of a section labeled 'Sonetos Satíricos'\thttps://www.cervantesvirtual.com/obra-visor/sonetos--4/html/000fed4c-82b2-11df-acc7-002185ce6064_6.html#I_152_\n",
      "74\tA Jorge de Tovar\tJuan de Tassis y Peralta, Conde de Villamediana\t16\t1\t1\tpart of a section labeled 'Sonetos Satíricos'\thttps://www.cervantesvirtual.com/obra-visor/sonetos--4/html/000fed4c-82b2-11df-acc7-002185ce6064_6.html#I_152_\n",
      "75\tA la casa de una cortesana donde entró a vivir un pretendiente\tJuan de Tassis y Peralta, Conde de Villamediana\t16\t1\t1\tpart of a section labeled 'Sonetos Satíricos'\thttps://www.cervantesvirtual.com/obra-visor/sonetos--4/html/000fed4c-82b2-11df-acc7-002185ce6064_6.html#I_152_\n",
      "76\tAl aguacil de corte Pedro Vergel\tJuan de Tassis y Peralta, Conde de Villamediana\t16\t1\t1\tpart of a section labeled 'Sonetos Satíricos'\thttps://www.cervantesvirtual.com/obra-visor/sonetos--4/html/000fed4c-82b2-11df-acc7-002185ce6064_6.html#I_152_\n"
     ]
    }
   ],
   "source": [
    "for mi in metadata_infos:\n",
    "    print(\"\\t\".join([str(x) for x in mi]))"
   ]
  }
 ],
 "metadata": {
  "kernelspec": {
   "display_name": "Python 3 (ipykernel)",
   "language": "python",
   "name": "python3"
  },
  "language_info": {
   "codemirror_mode": {
    "name": "ipython",
    "version": 3
   },
   "file_extension": ".py",
   "mimetype": "text/x-python",
   "name": "python",
   "nbconvert_exporter": "python",
   "pygments_lexer": "ipython3",
   "version": "3.11.7"
  }
 },
 "nbformat": 4,
 "nbformat_minor": 5
}
