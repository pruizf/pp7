{
 "cells": [
  {
   "cell_type": "code",
   "execution_count": 77,
   "id": "fc0ae855-d3b2-423b-b746-198795be98cf",
   "metadata": {},
   "outputs": [],
   "source": [
    "infi = \"sonnets_palacio.txt\""
   ]
  },
  {
   "cell_type": "code",
   "execution_count": 78,
   "id": "c95c4d87-4ec3-4fd8-bd3e-ce33f1284d6e",
   "metadata": {},
   "outputs": [],
   "source": [
    "import re\n",
    "\n",
    "with open(infi) as f:\n",
    "    out_lines = []\n",
    "    for line in f:\n",
    "        if re.match(r\"[0-9.]+\", line):\n",
    "            continue\n",
    "        elif re.match(r\"\\s*Madrid\\s*[0-9.,()]\", line):\n",
    "            continue\n",
    "        out_lines.append(line.rstrip())\n",
    "    txt = \"\\n\".join(out_lines)"
   ]
  },
  {
   "cell_type": "code",
   "execution_count": 79,
   "id": "210637fe-a968-4b3f-b9b3-7eaf74f8a8ca",
   "metadata": {
    "scrolled": true
   },
   "outputs": [
    {
     "data": {
      "text/plain": [
       "'\\nLa erupción\\n       Hierve la sangre en las hinchadas venas,\\nFuego brotar parecen las mejillas,\\nSe doblan hacía el suelo las rodillas\\nY el hombre más audaz respira apenas.\\n   Rompiera, a hallarse preso, sus cadenas,\\nY de valor hiciera maravillas;\\nPero siente en el cuerpo unas cosquillas\\nQue vértigo le dan y angustia y penas.\\n   Arroja espuma su entreabierta boca,\\nRetuércese en las sienes el cabello,\\nTodo le hiela y todo le sofoca;\\n   Su bronco respirar es ya resuello...\\nRompe al fin la erupción, y sólo toca\\nUn grano en la nariz y otro en el cuello.\\n\\n\\nAnteriorSiguiente\\nNo hay regla sin excepción\\n       Pasó ya la estación de los amores\\nY la edad de los sueños placentera;\\nPasó la deliciosa primavera,\\nY con ella los frutos y las flores.\\n   Pasarán de la suerte los favores\\nY de la vida la gentil quimera,\\nComo pasan, cruzando por la esfera,\\nRelámpagos de fuego brilladores.\\n   También pasaron los instantes puros\\nEn que el alma a sus dichas no halló tasa,\\nNi vio para su afán diques ni muros;\\n   Todo, al cabo, pasó; sólo no pasa\\nUna moneda falsa de dos duros\\nQue tengo hace tres meses en mi casa.\\n\\n\\nAnteriorSiguiente\\nEl amor ideal\\n       Haces bien en decir, Lesbia querida,\\nQue para mí son leyes tus antojos,\\nPues por una mirada de tus ojos\\nSatisfecho y feliz diera mi vida.\\n   Pide a mi amor sin tregua y sin medida\\nSacrificios, placer, dicha y enojos;\\nPide que torne en flores los abrojos\\nY en pavesas la nieve derretida.\\n   Pídeme que te cante como Homero,\\nQue ruja como hirviente catarata,\\nQue llore entre cadenas prisionero:\\n   Pídeme, Lesbia, mi ilusión más grata;\\nMas no me pidas ropa ni dinero,\\nPorque estoy más perdido que una rata.\\n\\n\\nAnteriorSiguiente\\nEl mayor dolor\\n       Coger sin sospecharlo un hierro ardiendo,\\nEstrenar unas botas apretadas,\\nReñir con un inglés a bofetadas,\\nAndar uno o dos años pretendiendo.\\nHallarse frente a frente de un berrendo\\nSin sentir en la hierba sus pisadas,\\nTener cuatro carreras acabadas\\nY no poder vivir sino pidiendo.\\n   Pasar entre beatos por hereje,\\nAmar la libertad y ser soldado,\\nY tener por rival quien nos protege,\\n   Disgustos son que al hombre dan enfado;\\nMas ¿qué disgusto habrá que se asemeje\\nAl disgusto de amar sin ser amado?\\n\\n\\nAnteriorSiguiente\\nIdilio\\n       Ayer, cuando la aurora amanecía,\\nMe salí por la Cuesta de la Vega,\\nY al arenal que Manzanares riega\\nFuí buscando deleite y poesía.\\n   En sus riberas plácidas dormía\\nLa hermosa Tisbe, que de amores ciega,\\nPor su galán Alfinto no sosiega,\\nA quien vio en el cuartel de artillería.\\n   Sola estaba la pobre, y descuidada,\\nVer me dejó bajo su manta rota\\nUn pie, más que el mayor una pulgada.\\n   Alzóse en esto; se apretó la bota,\\nY a los cielos lanzando una mirada,\\nSoltó la manta y se quedó en pelota.\\n\\n\\nAnteriorSiguiente\\nLa recompensa\\n       Hay en el valle que mi Laura habita\\nUn rincón entre arbustos escondido,\\nDonde tienen las tórtolas su nido\\nY las auras se dan amante cita.\\n   Levántase en su centro una casita,\\nCuyo tejado, por el sol herido,\\nBrilla con el matiz de oro bruñido,\\nComo torre de arábiga mezquita.\\n   Cerca de esa mansión tan hechicera\\nSe abre en el bosque pabellón esbelto,\\nVestido de jazmín y enredadera.\\n   Allí fue donde, impávido y resuelto,\\nPinté a Laura mi afán de tal manera...\\nQue me dio un bofetón de cuello vuelto.\\n\\n\\nAnteriorSiguiente\\nMal de muchos...\\n       ¿No viste alguna vez del rayo herido\\nDesprenderse y rodar cedro gigante,\\nLlenando de terror al caminante\\nEntre los bosques al azar perdido?\\n   ¿Viste cómo la tórtola en su nido\\nLlora la ausencia de su triste amante,\\nY cómo el sol derrite en un instante\\nEl alud de la sierra desprendido?\\n   ¿Viste, por fin, en el tranquilo cielo,\\nExtenderse las nubes poco a poco,\\nY de sombras y horror cubrir el suelo?\\n   ¿Viste el arbusto que produce el coco?\\nPues cesa ya tu afán y tu desvelo,\\nQue si tú no lo viste, yo tampoco.\\n\\n\\nAnteriorSiguiente\\nOración fúnebre\\n       Murió no sé en qué pueblo una señora,\\nY siguiendo costumbre inveterada,\\nInundóse de gente la morada,\\nAmigos de illo tempore, o de ahora.\\n   -¿Quién es, dijo un galán, aquel que llora?\\n-El viudo de la joven malograda.\\n-¿Y esa mujer de luto?\\n-Su cuñada.\\n\\n-¿Y aquella del rincón?\\n-La peinadora.\\n\\n   -¿Y ése que de una mesa en el testero\\nA cuantos entran «¿Cómo va?», pregunta?\\n-Debe ser el doctor, a lo que infiero.\\n   -¿Y aquél que está sentado a la otra punta?\\n-¿Cuál, aquel que parece un majadero?\\n¡Fue la debilidad de la difunta!\\n\\n\\nAnteriorSiguiente\\nLa doctrina de Epicuro\\n       -No existe la virtud, Dios es un mito,\\nHumo la gloria y el amor quimera;\\nEl que otra vida tras la muerte espera,\\nNo tiene más cabeza que un chorlito.\\n   Ora practique el bien, ora el delito,\\nLa fortuna del hombre no se altera,\\nPues al mirar la luz por vez primera,\\nVer puede en ella su destino escrito.\\nTodo es mentira en la existencia humana,\\nY aquel que busca el goce eternamente,\\nSólo ve del placer la sombra vana.-\\n   Así de Atenas a la pobre gente\\nDijo el gran Epicuro una mañana...\\nY se marchó a tomar el aguardiente.\\n\\n\\nAnteriorSiguiente\\nTrabajo perdido\\n       Ver de lejos la dicha, codiciarla,\\nDarle caza por fin y poseerla;\\nNo vivir con el miedo de perderla,\\nMorirse con el ansia de gozarla.\\n   Dar cuerpo a una ilusión, acariciarla,\\nY un instante después aborrecerla;\\nLuchar con la desgracia y no vencerla,\\nSentir perpetua sed y no apagarla.\\n   Llamarse racional, y a veces serlo,\\nY a menudo también serlo y sentirlo\\nHuyendo la ocasión de parecerlo.\\n   Comer partidas y aguantar el mirlo:\\nEso hacemos los hombres sin saberlo\\nY eso hacen las mujeres sin decirlo.\\n\\n\\nAnteriorSiguiente\\nEl néctar de los dioses\\n       Mezcla en un vaso de cristal de roca,\\nY, a ser posible, de oro y pedrería,\\nTres dracmas de placer, dos de poesía\\nY cuatro o cinco de soberbia loca.\\n   Del horno del amor ponle a la boca,\\nY cuando no haya hervido todavía,\\nAñádele onza y media de alegría\\nY seis gotitas de café de Moka.\\n   Si advirtieras que forma mucha espuma,\\nEn un trozo de blonda catalana\\nColarlo debes con presteza suma.\\n   Déjalo reposar por la mañana,\\nY removido bien con una pluma,\\nYa lo puedes tirar por la ventana.\\n\\n\\nAnteriorSiguiente\\nA un crítico\\n       Tu carta recibí, sabe Dios cuándo,\\nY a entenderla llegué, sabe Dios cómo;\\nMe has dado un palizón de tomo y lomo,\\nDe esos que al más cerril dejan temblando.\\n   ¡Cuánto lo habrás venido meditando!\\n¡Qué estudiar en un tomo y otro tomo!\\n¡Qué fino aquello de llamarme romo,\\nHipócrita, gandul y hasta nefando!\\n   Sigue por esa senda; luce el brío;\\nProcura que la ciencia no te empache,\\nY sángrala como se sangra un río.\\n   ¡No he de ser yo quien tus renglones tache;\\nPero para otra vez, amigo mío,\\nNo me escribas ipócrita sin hache!\\n\\n\\nAnteriorSiguiente\\nA propósito de un bailarín\\n       Vamos, que no es un hombre como yo,\\nNi una mujer siquiera como tú;\\nEs un mono vestido de tisú,\\nQue trabaja imitando lo que vio.\\n   De un hombre sale un tigre, un gato no\\n(Aunque algunos conozco que hacen fú),\\nY desde Epaminondas a Mambrú,\\nPor algo nuestro sexo se afanó.\\n   Tenerse un cuarto de hora sobre un pie\\nDices que es admirable; lo será:\\nNi tú ni yo lo hiciéramos, a fe.\\n   Pero si al cielo aspira y allí va,\\nEse aborto de grulla y chimpancé,\\n¿Qué cuenta de su vida a Dios dará?\\n\\n\\nAnteriorSiguiente\\nUn amigo residente en Roma\\n       Si alguna vez de Trevi en la fontana,\\nO del risueño Pincio en la colina,\\nO en la terrible cárcel Mamertina,\\nO en la soberbia iglesia Vaticana,\\n   La patria de Quevedo y de Santana\\nEchas de menos por servil rutina,\\nY envidias a la pobre golondrina\\nQue se viene a posar en mi ventana,\\n   No te detenga mujeril decoro,\\nTroquemos de lugar y, lo confieso,\\nRenunciaré al garbanzo sin desdoro.\\n   Una grada de sol tendrás de exceso,\\nY si la calma te aburrió del Foro,\\nTe daré mi tarjeta del Congreso.\\n\\n\\nAnteriorSiguiente\\nInforme - A un amigo que, pensando en casarse, me pidió mi opinión respecto de las mujeres\\n\\n       Es la mujer prisión en que nacemos,\\nY a que desde el nacer nos condenamos:\\nUnos por penitencia la buscamos,\\nOtros por galardón la merecemos.\\n   Abismo en que los débiles caemos,\\nPuerto donde los fuertes nos salvamos,\\nÍdolo que de tierra fabricamos\\nY luego en oro convertir queremos.\\n   Ella del cielo del amor es luna,\\nInspira las letrillas y las odas,\\nSirve al capricho y manda en la fortuna.\\n   ¿Dices que a ser del gremio te acomodas?\\nPiénsalo bien, decídete por una...\\nVerás cómo después te gustan todas.\\n\\n\\nAnteriorSiguiente\\nLeda... Rodríguez\\n       Tíndaro duerme, pero sé discreta,\\nQue Júpiter acecha tu decoro,\\nY si el amor de Europa le hizo toro,\\nBuscará para el tuyo nueva treta.\\n   Con el papel que guarda en su gaveta\\nPuede resucitar la lluvia de oro,\\nY yo te sueño lejos de ese coro\\nJuguete vil del mamalón de Creta.\\n   No del Eurotas la ribera umbría,\\nContemple de la siesta en el descanso\\nTu ebúrnea espalda sobre la onda fría:\\n   Y si ves algún cisne en un remanso,\\nDesprecia en él al Júpiter del día,\\nFingido cisne y verdadero ganso.\\n\\n\\nAnteriorSiguiente\\nA un pobre rico\\n       ¡Es tu empeño ridículo, camueso!\\nYo pudiera admirarte y aun quererte,\\nMaldecirte tal vez y aborrecerte;\\nEnvidiarte..., ¡jamás!, no doy en eso.\\n   Aunque superes en fortuna a Creso,\\nAunque a Sansón iguales en lo fuerte,\\nAunque tu esclava juzgues a la suerte\\nY halles siempre una boca para un beso,\\n   Benditas mi ansiedad y mi zozobra,\\nQue prefiero a la dicha que te exalta\\nY de un acaso estúpido es la obra.\\n   Sigue, pues, sigue, y hasta el cielo asalta;\\nCuanto los hombres pueden dar, te sobra;\\nPero, ¿quién te dará lo que te falta?\\n\\n\\nAnteriorSiguiente\\nLos placeres del campo\\n       Basta de expediciones en pollino\\nY manejar el remo a lo forzado;\\nBasta de merendonas en el prado,\\nY venga el coche y la sopita en vino.\\n   Si plugo alguna vez a mi destino\\nInspirarme afición al despoblado,\\nMe cansan ya la choza y el ganado,\\nY el césped y el arroyo cristalino.\\n   La nave de mi afán viró de bordo,\\nY hoy, con tristeza, mis penantes dejo,\\nA mis memorias de ayer haciendo el sordo,\\n   Pues me dicen la sangre y el espejo\\nQue para los idilios estoy gordo\\nY para las zagalas estoy viejo.\\n\\n'"
      ]
     },
     "execution_count": 79,
     "metadata": {},
     "output_type": "execute_result"
    }
   ],
   "source": [
    "txt"
   ]
  },
  {
   "cell_type": "code",
   "execution_count": 80,
   "id": "3fca7184-daca-42fc-b7bc-e025c39becf9",
   "metadata": {},
   "outputs": [],
   "source": [
    "poems = re.split(r\"\\nAnteriorSiguiente\\n\", txt)"
   ]
  },
  {
   "cell_type": "code",
   "execution_count": 81,
   "id": "15c7048b-aa08-431e-86bb-0c4692576d75",
   "metadata": {},
   "outputs": [
    {
     "data": {
      "text/plain": [
       "'\\nLa erupción\\n       Hierve la sangre en las hinchadas venas,\\nFuego brotar parecen las mejillas,\\nSe doblan hacía el suelo las rodillas\\nY el hombre más audaz respira apenas.\\n   Rompiera, a hallarse preso, sus cadenas,\\nY de valor hiciera maravillas;\\nPero siente en el cuerpo unas cosquillas\\nQue vértigo le dan y angustia y penas.\\n   Arroja espuma su entreabierta boca,\\nRetuércese en las sienes el cabello,\\nTodo le hiela y todo le sofoca;\\n   Su bronco respirar es ya resuello...\\nRompe al fin la erupción, y sólo toca\\nUn grano en la nariz y otro en el cuello.\\n\\n'"
      ]
     },
     "execution_count": 81,
     "metadata": {},
     "output_type": "execute_result"
    }
   ],
   "source": [
    "poems[0]"
   ]
  },
  {
   "cell_type": "code",
   "execution_count": 82,
   "id": "a3123295-566e-4f94-bce9-35d9dee887f1",
   "metadata": {},
   "outputs": [],
   "source": [
    "titles = []\n",
    "texts = []\n",
    "for poem in poems:\n",
    "    norm_text = re.sub(r\"\\n\\s{2,}\", \"\\n\\n\", poem)\n",
    "    # try to remove extra \\n at beginning before split\n",
    "    plines = norm_text.lstrip().split(\"\\n\")\n",
    "    title = plines[0].strip()\n",
    "    text = \"\\n\".join(plines[1:])\n",
    "    titles.append(title)\n",
    "    texts.append(text.strip())"
   ]
  },
  {
   "cell_type": "code",
   "execution_count": 83,
   "id": "445ba4c5-2f51-4f05-a427-030bc819970b",
   "metadata": {
    "scrolled": true
   },
   "outputs": [
    {
     "name": "stdout",
     "output_type": "stream",
     "text": [
      "Hierve la sangre en las hinchadas venas,\n",
      "Fuego brotar parecen las mejillas,\n",
      "Se doblan hacía el suelo las rodillas\n",
      "Y el hombre más audaz respira apenas.\n",
      "\n",
      "Rompiera, a hallarse preso, sus cadenas,\n",
      "Y de valor hiciera maravillas;\n",
      "Pero siente en el cuerpo unas cosquillas\n",
      "Que vértigo le dan y angustia y penas.\n",
      "\n",
      "Arroja espuma su entreabierta boca,\n",
      "Retuércese en las sienes el cabello,\n",
      "Todo le hiela y todo le sofoca;\n",
      "\n",
      "Su bronco respirar es ya resuello...\n",
      "Rompe al fin la erupción, y sólo toca\n",
      "Un grano en la nariz y otro en el cuello.\n"
     ]
    }
   ],
   "source": [
    "print(texts[0])"
   ]
  },
  {
   "cell_type": "code",
   "execution_count": 84,
   "id": "09e3b0cf-7573-41c4-9ae3-91c19e1727cd",
   "metadata": {},
   "outputs": [],
   "source": [
    "assert len(titles) == len(texts)"
   ]
  },
  {
   "cell_type": "code",
   "execution_count": 85,
   "id": "549dc5a0-2b73-489b-b65f-4504fe0a712c",
   "metadata": {},
   "outputs": [],
   "source": [
    "import os\n",
    "\n",
    "metadata_infos = []\n",
    "start_id = 51\n",
    "output_dir = \"out_palacios\"\n",
    "\n",
    "if not os.path.exists(output_dir):\n",
    "    os.mkdir(output_dir)\n",
    "for idx, infos in enumerate(zip(titles, texts)):\n",
    "    poem_id = start_id+idx\n",
    "    with open(os.path.join(output_dir, f\"{str.zfill(str(poem_id), 4)}.txt\"), mode=\"w\", encoding=\"utf8\") as oufi:\n",
    "        oufi.write(infos[0] + \"\\n\\n\" + infos[1])\n",
    "    metadata_infos.append((poem_id, infos[0], \"Manuel del Palacio\", 19, 1, 1, \"part of a collection labeled 'Sonetos Cómicos'\", \"\"\"https://www.cervantesvirtual.com/obra-visor/poesias-escogidas--1/html/fef3bb6e-82b1-11df-acc7-002185ce6064_3.html#I_53_\"\"\"))"
   ]
  },
  {
   "cell_type": "code",
   "execution_count": 86,
   "id": "dd5521cd-7e0d-4f2b-bc78-dfedbd309dc5",
   "metadata": {},
   "outputs": [
    {
     "name": "stdout",
     "output_type": "stream",
     "text": [
      "51\tLa erupción\tManuel del Palacio\t19\t1\t1\tpart of a collection labeled 'Sonetos Cómicos'\thttps://www.cervantesvirtual.com/obra-visor/poesias-escogidas--1/html/fef3bb6e-82b1-11df-acc7-002185ce6064_3.html#I_53_\n",
      "52\tNo hay regla sin excepción\tManuel del Palacio\t19\t1\t1\tpart of a collection labeled 'Sonetos Cómicos'\thttps://www.cervantesvirtual.com/obra-visor/poesias-escogidas--1/html/fef3bb6e-82b1-11df-acc7-002185ce6064_3.html#I_53_\n",
      "53\tEl amor ideal\tManuel del Palacio\t19\t1\t1\tpart of a collection labeled 'Sonetos Cómicos'\thttps://www.cervantesvirtual.com/obra-visor/poesias-escogidas--1/html/fef3bb6e-82b1-11df-acc7-002185ce6064_3.html#I_53_\n",
      "54\tEl mayor dolor\tManuel del Palacio\t19\t1\t1\tpart of a collection labeled 'Sonetos Cómicos'\thttps://www.cervantesvirtual.com/obra-visor/poesias-escogidas--1/html/fef3bb6e-82b1-11df-acc7-002185ce6064_3.html#I_53_\n",
      "55\tIdilio\tManuel del Palacio\t19\t1\t1\tpart of a collection labeled 'Sonetos Cómicos'\thttps://www.cervantesvirtual.com/obra-visor/poesias-escogidas--1/html/fef3bb6e-82b1-11df-acc7-002185ce6064_3.html#I_53_\n",
      "56\tLa recompensa\tManuel del Palacio\t19\t1\t1\tpart of a collection labeled 'Sonetos Cómicos'\thttps://www.cervantesvirtual.com/obra-visor/poesias-escogidas--1/html/fef3bb6e-82b1-11df-acc7-002185ce6064_3.html#I_53_\n",
      "57\tMal de muchos...\tManuel del Palacio\t19\t1\t1\tpart of a collection labeled 'Sonetos Cómicos'\thttps://www.cervantesvirtual.com/obra-visor/poesias-escogidas--1/html/fef3bb6e-82b1-11df-acc7-002185ce6064_3.html#I_53_\n",
      "58\tOración fúnebre\tManuel del Palacio\t19\t1\t1\tpart of a collection labeled 'Sonetos Cómicos'\thttps://www.cervantesvirtual.com/obra-visor/poesias-escogidas--1/html/fef3bb6e-82b1-11df-acc7-002185ce6064_3.html#I_53_\n",
      "59\tLa doctrina de Epicuro\tManuel del Palacio\t19\t1\t1\tpart of a collection labeled 'Sonetos Cómicos'\thttps://www.cervantesvirtual.com/obra-visor/poesias-escogidas--1/html/fef3bb6e-82b1-11df-acc7-002185ce6064_3.html#I_53_\n",
      "60\tTrabajo perdido\tManuel del Palacio\t19\t1\t1\tpart of a collection labeled 'Sonetos Cómicos'\thttps://www.cervantesvirtual.com/obra-visor/poesias-escogidas--1/html/fef3bb6e-82b1-11df-acc7-002185ce6064_3.html#I_53_\n",
      "61\tEl néctar de los dioses\tManuel del Palacio\t19\t1\t1\tpart of a collection labeled 'Sonetos Cómicos'\thttps://www.cervantesvirtual.com/obra-visor/poesias-escogidas--1/html/fef3bb6e-82b1-11df-acc7-002185ce6064_3.html#I_53_\n",
      "62\tA un crítico\tManuel del Palacio\t19\t1\t1\tpart of a collection labeled 'Sonetos Cómicos'\thttps://www.cervantesvirtual.com/obra-visor/poesias-escogidas--1/html/fef3bb6e-82b1-11df-acc7-002185ce6064_3.html#I_53_\n",
      "63\tA propósito de un bailarín\tManuel del Palacio\t19\t1\t1\tpart of a collection labeled 'Sonetos Cómicos'\thttps://www.cervantesvirtual.com/obra-visor/poesias-escogidas--1/html/fef3bb6e-82b1-11df-acc7-002185ce6064_3.html#I_53_\n",
      "64\tUn amigo residente en Roma\tManuel del Palacio\t19\t1\t1\tpart of a collection labeled 'Sonetos Cómicos'\thttps://www.cervantesvirtual.com/obra-visor/poesias-escogidas--1/html/fef3bb6e-82b1-11df-acc7-002185ce6064_3.html#I_53_\n",
      "65\tInforme - A un amigo que, pensando en casarse, me pidió mi opinión respecto de las mujeres\tManuel del Palacio\t19\t1\t1\tpart of a collection labeled 'Sonetos Cómicos'\thttps://www.cervantesvirtual.com/obra-visor/poesias-escogidas--1/html/fef3bb6e-82b1-11df-acc7-002185ce6064_3.html#I_53_\n",
      "66\tLeda... Rodríguez\tManuel del Palacio\t19\t1\t1\tpart of a collection labeled 'Sonetos Cómicos'\thttps://www.cervantesvirtual.com/obra-visor/poesias-escogidas--1/html/fef3bb6e-82b1-11df-acc7-002185ce6064_3.html#I_53_\n",
      "67\tA un pobre rico\tManuel del Palacio\t19\t1\t1\tpart of a collection labeled 'Sonetos Cómicos'\thttps://www.cervantesvirtual.com/obra-visor/poesias-escogidas--1/html/fef3bb6e-82b1-11df-acc7-002185ce6064_3.html#I_53_\n",
      "68\tLos placeres del campo\tManuel del Palacio\t19\t1\t1\tpart of a collection labeled 'Sonetos Cómicos'\thttps://www.cervantesvirtual.com/obra-visor/poesias-escogidas--1/html/fef3bb6e-82b1-11df-acc7-002185ce6064_3.html#I_53_\n"
     ]
    }
   ],
   "source": [
    "for mi in metadata_infos:\n",
    "    print(\"\\t\".join([str(x) for x in mi]))"
   ]
  }
 ],
 "metadata": {
  "kernelspec": {
   "display_name": "Python 3 (ipykernel)",
   "language": "python",
   "name": "python3"
  },
  "language_info": {
   "codemirror_mode": {
    "name": "ipython",
    "version": 3
   },
   "file_extension": ".py",
   "mimetype": "text/x-python",
   "name": "python",
   "nbconvert_exporter": "python",
   "pygments_lexer": "ipython3",
   "version": "3.11.7"
  }
 },
 "nbformat": 4,
 "nbformat_minor": 5
}
